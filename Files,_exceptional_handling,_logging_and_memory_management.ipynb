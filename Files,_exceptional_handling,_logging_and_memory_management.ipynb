{
  "nbformat": 4,
  "nbformat_minor": 0,
  "metadata": {
    "colab": {
      "provenance": []
    },
    "kernelspec": {
      "name": "python3",
      "display_name": "Python 3"
    },
    "language_info": {
      "name": "python"
    }
  },
  "cells": [
    {
      "cell_type": "markdown",
      "source": [
        "# Files, Exceptional Handling etc\n",
        "1. What is the difference between interpreted and compiled languages?\n",
        "   - In programming, the main difference between interpreted and compiled languages lies in how the source code is translated and executed by a computer.\n",
        "\n",
        "    In a compiled language, the source code you write is transformed by a compiler into machine code (binary instructions) before it is run. This machine code is then directly executed by the computer’s processor. Languages like C and C++ are compiled languages. Compilation usually results in faster execution time because the code is already translated into a form the computer can run directly. However, compiled code must be recompiled every time you make changes to the source.\n",
        "\n",
        "    In contrast, an interpreted language does not translate the entire program into machine code ahead of time. Instead, an interpreter reads the source code line by line and executes it directly at runtime. Python, JavaScript, and Ruby are popular interpreted languages. Interpreted languages are usually easier to test and debug because you can run and modify code without needing to recompile it, but they tend to run slower than compiled programs due to the extra overhead of interpretation during execution.\n",
        "2. What is exception handling in Python?\n",
        "   - Exception handling in Python is a mechanism that allows programmers to manage and respond to errors or exceptional conditions that occur during the execution of a program. Instead of letting the program crash when an error arises, Python provides special keywords—try, except, else, and finally—to catch and handle these errors gracefully.\n",
        "3. What is the purpose of the finally block in exception handling?\n",
        "   - In Python’s exception handling, the finally block serves the important purpose of defining code that must run no matter what happens in the try and except blocks. Whether an exception is raised or not, and whether it is handled or not, the code inside the finally block will always execute once the try block finishes running.\n",
        "\n",
        "    The main use of the finally block is for cleanup actions that should occur regardless of errors. Common examples include closing a file, releasing a network connection, or freeing up resources like database connections. This ensures that important tasks—such as saving data or releasing locks—are not skipped, which helps prevent resource leaks and keeps the program stable and predictable.\n",
        "4. What is logging in Python?\n",
        "   - Logging in Python is a technique used to record messages about a program’s execution, helping developers track events, detect problems, and understand the flow of their code. Instead of using print() statements, which are more suitable for simple debugging, Python’s logging module provides a flexible and standardized way to generate log messages with different levels of importance, such as DEBUG, INFO, WARNING, ERROR, and CRITICAL.\n",
        "5. What is the significance of the __del__ method in Python?\n",
        "   - The __del__ method in Python is a special method known as a destructor. Its main purpose is to define cleanup actions that should be performed when an object is about to be destroyed and removed from memory. The __del__ method is automatically called by Python’s garbage collector when an object’s reference count drops to zero, meaning there are no more references to that object in the program.\n",
        "6. What is the difference between import and from ... import in Python?\n",
        "   - In Python, both import and from ... import are used to bring in modules or parts of modules so you can use their functions, classes, or variables, but they work a bit differently in terms of scope and usage.\n",
        "\n",
        "    When you use the import statement, you bring in the entire module, and you have to use the module name as a prefix to access its contents. For example, import math lets you use math.sqrt(25) to call the sqrt function from the math module. This approach keeps your code clear because it’s always obvious which module a function or class belongs to.\n",
        "7. How can you handle multiple exceptions in Python?\n",
        "   - In Python, you can handle multiple exceptions by using multiple except blocks after a try block, or by grouping different exception types in a single except block using parentheses. This allows you to respond differently to various kinds of errors that might occur within the same piece of code.\n",
        "\n",
        "    When you use multiple except blocks, each block can catch and handle a specific type of exception. For example, you might handle ValueError differently from ZeroDivisionError because they represent different problems. Python checks the except blocks in the order they appear and runs the first one that matches the exception.\n",
        "8. What is the purpose of the with statement when handling files in Python?\n",
        "   - In Python, the with statement is used to simplify and safely handle resources like files, ensuring they are properly managed without requiring manual cleanup. When working with files, the with statement automatically takes care of opening and closing the file for you, even if an error occurs during file operations.\n",
        "\n",
        "    The main purpose of using with when handling files is to manage the file’s context efficiently. When you write with open('file.txt') as f:, Python opens the file and assigns it to the variable f. Once the indented block under with is finished, Python automatically closes the file, freeing up system resources and preventing potential problems like memory leaks or locked files.\n",
        "9. What is the difference between multithreading and multiprocessing?\n",
        "   - In Python and programming in general, multithreading and multiprocessing are two different techniques for achieving concurrent execution, but they work in different ways and serve different purposes.\n",
        "\n",
        "    Multithreading uses multiple threads within a single process to run tasks seemingly in parallel. Threads share the same memory space, so they can easily communicate with each other and share data. Multithreading is suitable for tasks that involve a lot of waiting, such as I/O operations like reading files, network communication, or user interaction. However, in Python, due to the Global Interpreter Lock (GIL), only one thread executes Python bytecode at a time, which limits true parallelism for CPU-bound tasks.\n",
        "\n",
        "    Multiprocessing, on the other hand, uses multiple separate processes, each with its own Python interpreter and memory space. Because each process runs independently, they can truly run in parallel on multiple CPU cores. Multiprocessing is ideal for CPU-bound tasks, like heavy computations, where splitting the work across cores can significantly improve performance. Processes do not share memory directly, so communication between them usually requires inter-process communication (IPC) mechanisms like pipes or queues.\n",
        "10. What are the advantages of using logging in a program?\n",
        "    - Logging in a Python program offers several important advantages that make it a valuable tool for writing reliable, maintainable, and professional applications.\n",
        "\n",
        "    First, logging allows you to record detailed information about the execution of your program, such as when certain events happen, errors occur, or important state changes take place. Unlike print statements, logs can include timestamps, severity levels (like DEBUG, INFO, WARNING, ERROR, and CRITICAL), and contextual information, making it easier to trace the flow of your program and diagnose issues.\n",
        "\n",
        "    Second, logging makes it easy to monitor and debug programs, especially complex or long-running applications. You can keep logs for later analysis, which helps developers and system administrators find the root cause of unexpected behavior or failures without needing to reproduce the issue immediately.\n",
        "\n",
        "    Third, logging is configurable and flexible. You can direct log output to different destinations such as the console, log files, or external logging services. You can also control the amount of detail recorded by setting different logging levels, which helps balance performance and information needs.\n",
        "11. What is memory management in Python?\n",
        "    - Memory management in Python refers to the process by which Python automatically handles the allocation and deallocation of memory to store variables, objects, and data structures during a program’s execution. Python uses a built-in memory management system that is designed to be efficient and mostly invisible to the programmer, so you usually don’t have to manually manage memory as you would in lower-level languages like C or C++.\n",
        "\n",
        "    Python’s memory management relies heavily on two main mechanisms: reference counting and garbage collection. Reference counting means that every object in Python keeps track of how many references point to it. When an object’s reference count drops to zero (meaning nothing is using it anymore), Python automatically frees the memory used by that object. However, reference counting alone cannot handle certain cases, like circular references, where two or more objects reference each other but are no longer reachable by the program. To handle this, Python uses a garbage collector, which periodically searches for unreachable objects with circular references and frees their memory.\n",
        "12. What are the basic steps involved in exception handling in Python?\n",
        "    - Exception handling in Python is a mechanism that allows you to manage errors gracefully without crashing your program. It follows a clear structure made up of a few basic steps:\n",
        "\n",
        "    Try Block: First, you write the code that might raise an exception inside a try block. This is the section where you anticipate that something could go wrong, such as dividing by zero, accessing an invalid index, or opening a missing file.\n",
        "\n",
        "    Except Block(s): Next, you handle possible exceptions using one or more except blocks. If an exception occurs inside the try block, Python immediately jumps to the appropriate except block that matches the type of error. You can handle specific exception types separately or use a general except to catch any exception.\n",
        "\n",
        "    Else Block (Optional): You can include an optional else block, which runs if no exceptions were raised in the try block. This is useful when you want to execute code only if everything inside try ran successfully.\n",
        "\n",
        "    Finally Block (Optional): Finally, you can add a finally block, which always runs, no matter whether an exception occurred or not. It’s commonly used to release resources like closing a file or network connection.\n",
        "13. Why is memory management important in Python?\n",
        "    - Memory management is important in Python because it ensures that the limited system memory resources are used efficiently while keeping your programs running smoothly and reliably. Good memory management helps prevent memory leaks, which occur when a program holds onto memory it no longer needs, gradually consuming all available memory and potentially causing the program—or even the whole system—to slow down or crash.\n",
        "\n",
        "    In Python, memory management is largely automatic, thanks to its built-in garbage collector and reference counting mechanism. These systems track how memory is allocated and automatically reclaim it when objects are no longer in use. This automation makes Python easier to use than lower-level languages where you must manually allocate and free memory, which can lead to hard-to-find bugs and errors.\n",
        "14. What is the role of try and except in exception handling?\n",
        "    - In Python, the try and except blocks play a central role in exception handling by allowing you to manage errors gracefully and prevent your program from crashing unexpectedly.\n",
        "\n",
        "    The try block is used to wrap a section of code where you suspect an error might occur during execution, such as dividing by zero, opening a file that might not exist, or performing operations on invalid input. If no error occurs, the code inside the try block runs normally. However, if an error does happen, Python immediately stops executing the try block at the point of the error and looks for an except block to handle it.\n",
        "\n",
        "    The except block defines how the program should respond to the error. You can specify which type of exception to catch (for example, ZeroDivisionError or FileNotFoundError) or use a general except to handle any unexpected error. This way, instead of crashing, the program can display a helpful message, perform alternative actions, or safely exit. By using try and except, developers can write robust programs that handle errors smoothly, keep running, and provide a better user experience.\n",
        "15. How does Python's garbage collection system work?\n",
        "    - Python’s garbage collection system is an automatic memory management mechanism that helps keep your program efficient by reclaiming memory that is no longer needed. Python primarily uses a technique called reference counting, combined with a garbage collector that handles more complex cases like circular references.\n",
        "\n",
        "    Whenever you create an object in Python, the system keeps track of how many references point to that object — this count is called the reference count. When the reference count drops to zero, meaning no part of the program is using that object anymore, Python immediately frees up the memory occupied by that object. However, some objects can reference each other in a cycle (for example, two lists that contain references to each other), which can prevent their reference counts from ever reaching zero.\n",
        "\n",
        "    To handle such cases, Python’s garbage collector (specifically, the gc module) uses a cyclic garbage collector that detects groups of objects that are no longer reachable from the main program but are still referencing each other. It periodically scans for these cycles and removes them, freeing up the memory. This automatic memory management ensures that Python developers don’t have to manually allocate and deallocate memory, which reduces bugs, memory leaks, and crashes, making programs safer and easier to maintain.\n",
        "16. What is the purpose of the else block in exception handling?\n",
        "    - In Python, the else block in exception handling serves a special purpose: it allows you to define a section of code that should run only if no exceptions were raised in the try block.\n",
        "\n",
        "    When you use a try...except...else structure, the try block contains the code that might raise an exception. If an exception occurs, the except block runs to handle it. However, if no exception occurs, Python skips the except block entirely and executes the else block instead. This helps you separate normal, error-free code from error-handling code, making your program clearer and easier to read.\n",
        "\n",
        "    Typically, the else block is used for actions that should only happen when the try block succeeds completely — for example, further processing that depends on the successful execution of the try block. By using an else block, you can avoid accidentally catching exceptions that might occur in this additional code, keeping exception handling precise and reliable.\n",
        "17. What are the common logging levels in Python?\n",
        "    - In Python, the logging module provides several standard logging levels that indicate the severity or importance of the messages being logged. These levels help developers control what kinds of messages get recorded and make it easier to filter logs based on their purpose. Here are the common logging levels, listed from the lowest to the highest severity:\n",
        "\n",
        "    DEBUG: This is the lowest level. It is used for detailed diagnostic information useful for debugging. It typically includes information that helps developers trace the program’s internal operations step by step.\n",
        "\n",
        "    INFO: This level is used to confirm that things are working as expected. It’s for general, routine messages that track the progress of the application at a high level.\n",
        "\n",
        "    WARNING: This level indicates something unexpected happened, or there might be a problem in the near future, but the program is still running as expected. It signals caution but not failure.\n",
        "\n",
        "    ERROR: This level is used when a more serious problem occurs — something that has caused a part of the program to fail. It’s used to record errors that should be addressed.\n",
        "\n",
        "    CRITICAL: This is the highest level. It indicates a very serious error that may prevent the program from continuing to run. It’s used for severe situations like system failures or major crashes.\n",
        "18. What is the difference between os.fork() and multiprocessing in Python?\n",
        "    - The difference between os.fork() and the multiprocessing module in Python mainly lies in how they create new processes, how portable they are, and how they handle process management.\n",
        "\n",
        "    The os.fork() function is a low-level system call available on Unix-like operating systems (like Linux and macOS). When you call os.fork(), it directly creates a child process that is an exact duplicate of the parent process. Both the parent and child processes continue running independently from the point where fork() was called. Using os.fork() requires careful handling of process IDs, resources, and communication between processes, making it more error-prone for beginners and less portable because it doesn’t work on Windows.\n",
        "\n",
        "    In contrast, Python’s multiprocessing module is a high-level, cross-platform solution for creating and managing processes. It provides an easier and safer way to run multiple processes concurrently. multiprocessing handles creating new processes, setting up communication between them using queues or pipes, and managing shared data with managers or shared memory. Unlike os.fork(), it works on all major operating systems, including Windows, by using different process-spawning techniques under the hood.\n",
        "19. What is the importance of closing a file in Python?\n",
        "    - Closing a file in Python is very important because it ensures that all resources associated with the file are properly released and that any changes made to the file are saved correctly. When you open a file for writing or appending, Python temporarily stores data in a buffer (a small amount of memory) before actually writing it to disk. If you do not close the file, some of this data might remain in the buffer and never get written, which can lead to data loss or incomplete files.\n",
        "\n",
        "    Additionally, keeping files open unnecessarily can consume system resources, such as file descriptors, which are limited. If too many files remain open at once, your program or even the operating system may run into errors because it runs out of available resources. Closing a file also helps prevent data corruption and ensures that other programs or parts of your code can safely access the file afterward.\n",
        "\n",
        "    To make this process safer and more convenient, Python provides the with statement, which automatically closes the file once the block of code is finished, even if an error occurs. This makes it a best practice to always close files explicitly or use the with statement to handle files securely and efficiently.\n",
        "20. What is the difference between file.read() and file.readline() in Python?\n",
        "    - In Python, file.read() and file.readline() are both methods used to read the contents of a file, but they work in different ways and serve different purposes.\n",
        "\n",
        "    The file.read() method reads the entire content of a file and returns it as a single string. When you use file.read(), Python starts at the current file pointer position (usually the beginning, unless you’ve moved it) and reads until the end of the file. This method is useful when you want to process the whole file at once, such as reading the entire text into memory for searching or processing. However, if the file is very large, using file.read() can consume a lot of memory, which may not be efficient.\n",
        "\n",
        "    On the other hand, file.readline() reads only a single line from the file each time it is called and returns it as a string, including the newline character at the end. Each time you call file.readline(), Python reads from where the file pointer left off and moves it to the start of the next line. This method is helpful when you want to process a file line by line, which is more memory-efficient for large files and makes it easy to handle each line separately without loading the entire file into memory at once.\n",
        "21. What is the logging module in Python used for?\n",
        "    - The logging module in Python is a powerful and flexible built-in module used to track events that happen when a program runs. Its main purpose is to provide a way to record messages, errors, warnings, or other information about the execution of a program, which helps developers monitor, debug, and maintain their code more effectively.\n",
        "\n",
        "    Unlike using simple print() statements, the logging module offers a standardized and configurable approach to handle messages at different severity levels, such as DEBUG, INFO, WARNING, ERROR, and CRITICAL. This makes it easy to filter messages based on importance and control what gets displayed or saved. For example, you can write debug information during development and only show warnings and errors in production.\n",
        "\n",
        "    The logging module also allows you to output log messages to different destinations, such as the console, files, or external systems, without changing your code structure. You can even format the logs to include timestamps, source file names, and line numbers, which makes debugging and tracing problems much easier. Overall, the logging module is an essential tool for creating robust, maintainable, and professional Python applications.\n",
        "22. What is the os module in Python used for in file handling?\n",
        "    - The os module in Python is a standard library module that provides a way to interact with the operating system, making it especially useful for file and directory handling. When working with files, the os module allows you to perform various tasks that go beyond just reading or writing data — it helps you manage the file system itself.\n",
        "\n",
        "    Using the os module, you can create, rename, delete, and move files and directories. It also allows you to check if a file or folder exists, get information about files (such as size and modification time), and navigate the file system by changing the current working directory. Functions like os.mkdir() for creating directories, os.remove() for deleting files, os.rename() for renaming, and os.path utilities for joining paths or checking file extensions are commonly used in file handling tasks.\n",
        "\n",
        "    In short, the os module is a vital tool for automating and managing file system operations in Python programs, helping developers write scripts that work smoothly across different operating systems without needing to know the underlying system-specific commands.\n",
        "23. What are the challenges associated with memory management in Python?\n",
        "    - Memory management in Python is designed to be mostly automatic and developer-friendly, but it still comes with certain challenges that programmers need to understand to write efficient and bug-free code. One major challenge is unintentional memory leaks, which can happen when objects are kept alive longer than needed due to lingering references, such as global variables or circular references in complex data structures.\n",
        "\n",
        "    Another challenge is managing large datasets in memory. Python is a high-level, dynamically typed language, which can add overhead and make memory consumption higher than in lower-level languages like C or C++. Inefficient use of data structures, such as using lists when a generator or an iterator would suffice, can also waste memory.\n",
        "\n",
        "    Additionally, Python’s garbage collection system, which uses reference counting along with a cyclic garbage collector, may not always reclaim memory immediately. For instance, objects involved in reference cycles may persist until the cyclic garbage collector runs, which can lead to unexpected spikes in memory usage if not managed carefully.\n",
        "24. How do you raise an exception manually in Python?\n",
        "    - In Python, you can raise an exception manually using the raise statement. This allows you to create custom error conditions in your program when you want to signal that something has gone wrong according to your own logic or business rules — even if Python wouldn’t automatically raise an error in that situation.\n",
        "25. Why is it important to use multithreading in certain applications?\n",
        "    - Multithreading is important in certain applications because it allows a program to perform multiple tasks at the same time within a single process, improving efficiency and responsiveness. In applications where tasks can run independently — such as downloading files while updating a user interface, handling multiple client requests on a server, or performing background computations while the main program stays responsive — multithreading helps make better use of system resources by overlapping I/O-bound or waiting tasks.\n",
        "\n",
        "    By using multiple threads, programs can avoid becoming unresponsive during long operations, providing a smoother experience to the user. For example, in a web browser, one thread might render a page while another downloads images. However, it’s important to manage multithreading carefully because improper use can lead to race conditions, deadlocks, and increased complexity. Despite these challenges, multithreading remains a valuable tool for improving the performance and usability of many types of applications.\n",
        "    \n",
        "\n",
        "\n",
        "\n",
        "\n",
        "\n",
        "\n",
        "\n",
        "\n",
        "\n",
        "\n",
        "\n",
        "\n",
        "\n",
        "\n",
        "\n",
        "\n",
        "\n"
      ],
      "metadata": {
        "id": "yddpoucpou2F"
      }
    },
    {
      "cell_type": "code",
      "source": [
        "#1 How can you open a file for writing in Python and write a string to it?\n",
        "with open(\"example.txt\", \"w\") as file:\n",
        "    file.write(\"Hello, this is a line of text.\")"
      ],
      "metadata": {
        "id": "EHLCGcgjsB53"
      },
      "execution_count": 1,
      "outputs": []
    },
    {
      "cell_type": "code",
      "source": [
        "#2 Write a Python program to read the contents of a file and print each line.\n",
        "with open(\"example.txt\", \"r\") as file:\n",
        "    for line in file:\n",
        "        print(line)"
      ],
      "metadata": {
        "colab": {
          "base_uri": "https://localhost:8080/"
        },
        "id": "sSNKm72R3mud",
        "outputId": "377d004c-747c-49be-90e0-1820c59e3f0a"
      },
      "execution_count": 2,
      "outputs": [
        {
          "output_type": "stream",
          "name": "stdout",
          "text": [
            "Hello, this is a line of text.\n"
          ]
        }
      ]
    },
    {
      "cell_type": "code",
      "source": [
        "#3 How would you handle a case where the file doesn't exist while trying to open it for reading?\n",
        "try:\n",
        "    with open(\"example.txt\", \"r\") as file:\n",
        "        content = file.read()\n",
        "        print(content)\n",
        "except FileNotFoundError:\n",
        "    print(\"Error: The file does not exist.\")"
      ],
      "metadata": {
        "colab": {
          "base_uri": "https://localhost:8080/"
        },
        "id": "Dzwb5mqr3tWo",
        "outputId": "2b37da67-6bcd-4de0-fb82-a626839b8186"
      },
      "execution_count": 3,
      "outputs": [
        {
          "output_type": "stream",
          "name": "stdout",
          "text": [
            "Hello, this is a line of text.\n"
          ]
        }
      ]
    },
    {
      "cell_type": "code",
      "source": [
        "#4 Write a Python script that reads from one file and writes its content to another file.\n",
        "# Open the source file in read mode\n",
        "\n",
        "with open(\"source_file.txt\", \"r\") as source:\n",
        "    content = source.read()\n",
        "\n",
        "# Open the destination file in write mode and write the content\n",
        "with open(\"destination_file.txt\", \"w\") as destination:\n",
        "    destination.write(content)\n",
        "\n",
        "print(\"File copy completed successfully.\")"
      ],
      "metadata": {
        "id": "WzM1vCl73_gs"
      },
      "execution_count": null,
      "outputs": []
    },
    {
      "cell_type": "code",
      "source": [
        "#5 How would you catch and handle division by zero error in Python?\n",
        "try:\n",
        "    numerator = 10\n",
        "    denominator = 0\n",
        "    result = numerator / denominator\n",
        "    print(\"Result:\", result)\n",
        "except ZeroDivisionError:\n",
        "    print(\"Error: Division by zero is not allowed.\")"
      ],
      "metadata": {
        "colab": {
          "base_uri": "https://localhost:8080/"
        },
        "id": "__rw49a66kDD",
        "outputId": "e9efecce-2a31-404d-f712-33d6a6e4179a"
      },
      "execution_count": 6,
      "outputs": [
        {
          "output_type": "stream",
          "name": "stdout",
          "text": [
            "Error: Division by zero is not allowed.\n"
          ]
        }
      ]
    },
    {
      "cell_type": "code",
      "source": [
        "#6 Write a Python program that logs an error message to a log file when a division by zero exception occurs.\n",
        "import logging\n",
        "\n",
        "# Configure the logging settings\n",
        "logging.basicConfig(filename='error_log.log',\n",
        "                    level=logging.ERROR,\n",
        "                    format='%(asctime)s - %(levelname)s - %(message)s')\n",
        "\n",
        "try:\n",
        "    numerator = 10\n",
        "    denominator = 0\n",
        "    result = numerator / denominator\n",
        "    print(\"Result:\", result)\n",
        "except ZeroDivisionError:\n",
        "    logging.error(\"Attempted to divide by zero.\")\n",
        "    print(\"An error occurred: Division by zero is not allowed.\")"
      ],
      "metadata": {
        "colab": {
          "base_uri": "https://localhost:8080/"
        },
        "id": "z2575L9E7Dmf",
        "outputId": "6c185ce1-15bc-4a39-f0a8-020624dbac91"
      },
      "execution_count": 7,
      "outputs": [
        {
          "output_type": "stream",
          "name": "stderr",
          "text": [
            "ERROR:root:Attempted to divide by zero.\n"
          ]
        },
        {
          "output_type": "stream",
          "name": "stdout",
          "text": [
            "An error occurred: Division by zero is not allowed.\n"
          ]
        }
      ]
    },
    {
      "cell_type": "code",
      "source": [
        "#7 How do you log information at different levels (INFO, ERROR, WARNING) in Python using the logging module?\n",
        "import logging\n",
        "\n",
        "# Configure the logging settings\n",
        "logging.basicConfig(\n",
        "    filename='app.log',         # Log file name\n",
        "    level=logging.DEBUG,        # Minimum level to capture\n",
        "    format='%(asctime)s - %(levelname)s - %(message)s'\n",
        ")\n",
        "\n",
        "# Log an INFO message\n",
        "logging.info(\"This is an informational message.\")\n",
        "\n",
        "# Log a WARNING message\n",
        "logging.warning(\"This is a warning message.\")\n",
        "\n",
        "# Log an ERROR message\n",
        "logging.error(\"This is an error message.\")"
      ],
      "metadata": {
        "colab": {
          "base_uri": "https://localhost:8080/"
        },
        "id": "YCKv-d7Y7WWP",
        "outputId": "2516aac5-6990-47f3-93f4-67522f607e9d"
      },
      "execution_count": 9,
      "outputs": [
        {
          "output_type": "stream",
          "name": "stderr",
          "text": [
            "WARNING:root:This is a warning message.\n",
            "ERROR:root:This is an error message.\n"
          ]
        }
      ]
    },
    {
      "cell_type": "code",
      "source": [
        "#8 Write a program to handle a file opening error using exception handling.\n",
        "try:\n",
        "    # Try to open a file that may not exist\n",
        "    file = open('non_existent_file.txt', 'r')\n",
        "    content = file.read()\n",
        "    print(content)\n",
        "    file.close()\n",
        "except FileNotFoundError:\n",
        "    print(\"Error: The file does not exist.\")\n",
        "except Exception as e:\n",
        "    print(f\"An unexpected error occurred: {e}\")"
      ],
      "metadata": {
        "colab": {
          "base_uri": "https://localhost:8080/"
        },
        "id": "qIzPhJPP8KhY",
        "outputId": "beaad9cc-aac0-4766-f675-37fe414a04ad"
      },
      "execution_count": 10,
      "outputs": [
        {
          "output_type": "stream",
          "name": "stdout",
          "text": [
            "Error: The file does not exist.\n"
          ]
        }
      ]
    },
    {
      "cell_type": "code",
      "source": [
        "#9 How can you read a file line by line and store its content in a list in Python?\n",
        "# Open the file using 'with' to ensure it closes properly\n",
        "with open('example.txt', 'r') as file:\n",
        "    lines = file.readlines()\n",
        "\n",
        "# 'lines' is now a list where each element is a line from the file\n",
        "print(lines)"
      ],
      "metadata": {
        "colab": {
          "base_uri": "https://localhost:8080/"
        },
        "id": "d4qWxSBI80GG",
        "outputId": "f6a8c015-e9e7-427e-d3a6-fc0f25f8614c"
      },
      "execution_count": 11,
      "outputs": [
        {
          "output_type": "stream",
          "name": "stdout",
          "text": [
            "['Hello, this is a line of text.']\n"
          ]
        }
      ]
    },
    {
      "cell_type": "code",
      "source": [
        "#10 How can you append data to an existing file in Python?\n",
        "with open('example.txt', 'a') as file:\n",
        "    file.write('\\nThis is a new line of text.')"
      ],
      "metadata": {
        "id": "sWfcl0fo-h5A"
      },
      "execution_count": 12,
      "outputs": []
    },
    {
      "cell_type": "code",
      "source": [
        "#11 Write a Python program that uses a try-except block to handle an error when attempting to access a dictionary key that doesn't exist.\n",
        "try:\n",
        "    my_dict = {'a': 1, 'b': 2, 'c': 3}\n",
        "    value = my_dict['d']  # This will raise a KeyError\n",
        "except KeyError:\n",
        "    print(\"Error: Key not found in the dictionary.\")\n"
      ],
      "metadata": {
        "colab": {
          "base_uri": "https://localhost:8080/"
        },
        "id": "9Ajc5cq9_Ig3",
        "outputId": "b871b171-f66a-42e8-a945-1eed77c1cff4"
      },
      "execution_count": 13,
      "outputs": [
        {
          "output_type": "stream",
          "name": "stdout",
          "text": [
            "Error: Key not found in the dictionary.\n"
          ]
        }
      ]
    },
    {
      "cell_type": "code",
      "source": [
        "#12 Write a program that demonstrates using multiple except blocks to handle different types of exceptions?\n",
        "try:\n",
        "    num1 = int(input(\"Enter a number: \"))\n",
        "    num2 = int(input(\"Enter another number: \"))\n",
        "    result = num1 / num2\n",
        "    print(\"Result:\", result)\n",
        "\n",
        "except ValueError:\n",
        "    print(\"Invalid input! Please enter only numbers.\")\n",
        "\n",
        "except ZeroDivisionError:\n",
        "    print(\"Cannot divide by zero!\")\n",
        "\n",
        "except Exception as e:\n",
        "    print(\"An unexpected error occurred:\", e)"
      ],
      "metadata": {
        "colab": {
          "base_uri": "https://localhost:8080/"
        },
        "id": "V_crpsbT_Qjv",
        "outputId": "1125ca90-a941-4f1d-df7b-9a750be23a5c"
      },
      "execution_count": 14,
      "outputs": [
        {
          "output_type": "stream",
          "name": "stdout",
          "text": [
            "Enter a number: 12\n",
            "Enter another number: 22\n",
            "Result: 0.5454545454545454\n"
          ]
        }
      ]
    },
    {
      "cell_type": "code",
      "source": [
        "#13 How would you check if a file exists before attempting to read it in Python?\n",
        "import os\n",
        "\n",
        "file_path = 'example.txt'  # Replace with the actual file path\n",
        "\n",
        "if os.path.exists(file_path):\n",
        "    print(f\"The file '{file_path}' exists.\")\n",
        "    try:\n",
        "        with open(file_path, 'r') as file:\n",
        "            content = file.read()\n",
        "            print(\"File content:\")\n",
        "            print(content)\n",
        "    except Exception as e:\n",
        "        print(f\"An error occurred while reading the file: {e}\")\n",
        "else:\n",
        "    print(f\"The file '{file_path}' does not exist.\")"
      ],
      "metadata": {
        "colab": {
          "base_uri": "https://localhost:8080/"
        },
        "id": "Pyb3Xry2_mjR",
        "outputId": "3b9dc3af-236e-4d12-bd2a-452b7f4760da"
      },
      "execution_count": 15,
      "outputs": [
        {
          "output_type": "stream",
          "name": "stdout",
          "text": [
            "The file 'example.txt' exists.\n",
            "File content:\n",
            "Hello, this is a line of text.\n",
            "This is a new line of text.\n"
          ]
        }
      ]
    },
    {
      "cell_type": "code",
      "source": [
        "#14 Write a program that uses the logging module to log both informational and error messages.\n",
        "import logging\n",
        "\n",
        "# Configure logging\n",
        "logging.basicConfig(filename='app.log', level=logging.DEBUG, format='%(levelname)s:%(message)s')\n",
        "\n",
        "# Log an informational message\n",
        "logging.info('This is an informational message.')\n",
        "\n",
        "# Log an error message\n",
        "try:\n",
        "    result = 10 / 0\n",
        "except ZeroDivisionError:\n",
        "    logging.error('Attempted to divide by zero.')"
      ],
      "metadata": {
        "id": "cI2QvJjIOAuP",
        "outputId": "775b2ba7-56cc-41b6-cf2e-dd7ec094bfcc",
        "colab": {
          "base_uri": "https://localhost:8080/"
        }
      },
      "execution_count": 16,
      "outputs": [
        {
          "output_type": "stream",
          "name": "stderr",
          "text": [
            "ERROR:root:Attempted to divide by zero.\n"
          ]
        }
      ]
    },
    {
      "cell_type": "code",
      "source": [
        "#15 Write a Python program that prints the content of a file and handles the case when the file is empty.\n",
        "filename = 'example.txt'\n",
        "\n",
        "try:\n",
        "    with open(filename, 'r') as file:\n",
        "        content = file.read()\n",
        "        if content:\n",
        "            print(\"File content:\")\n",
        "            print(content)\n",
        "        else:\n",
        "            print(\"The file is empty.\")\n",
        "except FileNotFoundError:\n",
        "    print(f\"The file '{filename}' does not exist.\")"
      ],
      "metadata": {
        "id": "dYJBAAWcOdsm"
      },
      "execution_count": null,
      "outputs": []
    },
    {
      "cell_type": "code",
      "source": [
        "#16 Demonstrate how to use memory profiling to check the memory usage of a small program.\n",
        "from memory_profiler import profile\n",
        "\n",
        "@profile\n",
        "def create_list():\n",
        "    big_list = [x for x in range(1000000)]\n",
        "    return big_list\n",
        "\n",
        "if __name__ == \"__main__\":\n",
        "    my_list = create_list()\n"
      ],
      "metadata": {
        "id": "jwzIjuQ6PkF3"
      },
      "execution_count": null,
      "outputs": []
    },
    {
      "cell_type": "code",
      "source": [
        "#17 Write a Python program to create and write a list of numbers to a file, one number per line.\n",
        "numbers = [1, 2, 3, 4, 5, 6, 7, 8, 9, 10]\n",
        "\n",
        "with open(\"numbers.txt\", \"w\") as file:\n",
        "    for number in numbers:\n",
        "        file.write(str(number) + \"\\n\")\n",
        "\n",
        "print(\"Numbers have been written to numbers.txt\")"
      ],
      "metadata": {
        "id": "0ibc32JbQB1S"
      },
      "execution_count": null,
      "outputs": []
    },
    {
      "cell_type": "code",
      "source": [
        "#18 How would you implement a basic logging setup that logs to a file with rotation after 1MB.\n",
        "import logging\n",
        "from logging.handlers import RotatingFileHandler\n",
        "\n",
        "# Create a logger\n",
        "logger = logging.getLogger(\"MyLogger\")\n",
        "logger.setLevel(logging.INFO)\n",
        "\n",
        "# Create a RotatingFileHandler\n",
        "handler = RotatingFileHandler(\"app.log\", maxBytes=1*1024*1024, backupCount=5)\n",
        "handler.setLevel(logging.INFO)\n",
        "\n",
        "# Create a formatter and add it to the handler\n",
        "formatter = logging.Formatter('%(asctime)s - %(levelname)s - %(message)s')\n",
        "handler.setFormatter(formatter)\n",
        "\n",
        "# Add the handler to the logger\n",
        "logger.addHandler(handler)\n",
        "\n",
        "# Example log messages\n",
        "logger.info(\"This is an informational message.\")\n",
        "logger.error(\"This is an error message.\")\n",
        "logger.warning(\"This is a warning message.\")\n",
        "\n",
        "print(\"Logging with rotation is set up.\")"
      ],
      "metadata": {
        "id": "bk1WL-MaRPnk",
        "outputId": "565c4e6a-0032-4f42-cdf9-2da186bd4c6a",
        "colab": {
          "base_uri": "https://localhost:8080/"
        }
      },
      "execution_count": 18,
      "outputs": [
        {
          "output_type": "stream",
          "name": "stderr",
          "text": [
            "INFO:MyLogger:This is an informational message.\n",
            "ERROR:MyLogger:This is an error message.\n",
            "WARNING:MyLogger:This is a warning message.\n"
          ]
        },
        {
          "output_type": "stream",
          "name": "stdout",
          "text": [
            "Logging with rotation is set up.\n"
          ]
        }
      ]
    },
    {
      "cell_type": "code",
      "source": [
        "#19 Write a program that handles both IndexError and KeyError using a try-except block.\n",
        "try:\n",
        "    # Trying to access an index that may not exist\n",
        "    my_list = [1, 2, 3]\n",
        "    print(my_list[5])  # This will raise an IndexError\n",
        "\n",
        "    # Trying to access a key that may not exist\n",
        "    my_dict = {'name': 'Alice'}\n",
        "    print(my_dict['age'])  # This will raise a KeyError\n",
        "\n",
        "except IndexError:\n",
        "    print(\"An IndexError occurred: list index out of range.\")\n",
        "\n",
        "except KeyError:\n",
        "    print(\"A KeyError occurred: key not found in dictionary.\")"
      ],
      "metadata": {
        "id": "4JpMycbySG0k",
        "outputId": "8bab8acd-4a4d-47af-98b6-711c47d1dfb1",
        "colab": {
          "base_uri": "https://localhost:8080/"
        }
      },
      "execution_count": 19,
      "outputs": [
        {
          "output_type": "stream",
          "name": "stdout",
          "text": [
            "An IndexError occurred: list index out of range.\n"
          ]
        }
      ]
    },
    {
      "cell_type": "code",
      "source": [
        "#20 How would you open a file and read its contents using a context manager in Python?\n",
        "with open('example.txt', 'r') as file:\n",
        "    content = file.read()\n",
        "    print(content)"
      ],
      "metadata": {
        "id": "SmN94BEPScEd",
        "outputId": "9f49c6b3-5f38-4c7a-e351-7190e026c2b2",
        "colab": {
          "base_uri": "https://localhost:8080/"
        }
      },
      "execution_count": 20,
      "outputs": [
        {
          "output_type": "stream",
          "name": "stdout",
          "text": [
            "Hello, this is a line of text.\n",
            "This is a new line of text.\n"
          ]
        }
      ]
    },
    {
      "cell_type": "code",
      "source": [
        "#21 Write a Python program that reads a file and prints the number of occurrences of a specific word.\n",
        "def count_word_occurrences(filename, word):\n",
        "    count = 0\n",
        "    with open(filename, 'r') as file:\n",
        "        for line in file:\n",
        "            count += line.lower().split().count(word.lower())\n",
        "    return count\n",
        "\n",
        "filename = 'example.txt'\n",
        "word_to_count = 'python'\n",
        "\n",
        "occurrences = count_word_occurrences(filename, word_to_count)\n",
        "print(f\"The word '{word_to_count}' occurs {occurrences} times in the file.\")"
      ],
      "metadata": {
        "id": "qcagmV4ZS9C5",
        "outputId": "84803838-78f1-4f6a-a3c7-66bd9033deff",
        "colab": {
          "base_uri": "https://localhost:8080/"
        }
      },
      "execution_count": 21,
      "outputs": [
        {
          "output_type": "stream",
          "name": "stdout",
          "text": [
            "The word 'python' occurs 0 times in the file.\n"
          ]
        }
      ]
    },
    {
      "cell_type": "code",
      "source": [
        "#21 Write a Python program that reads a file and prints the number of occurrences of a specific word.\n",
        "filename = 'example.txt'\n",
        "word_to_count = 'python'\n",
        "count = 0\n",
        "\n",
        "with open(filename, 'r') as file:\n",
        "    for line in file:\n",
        "        words = line.lower().split()\n",
        "        count += words.count(word_to_count.lower())\n",
        "\n",
        "print(f\"The word '{word_to_count}' occurs {count} times in the file.\")\n"
      ],
      "metadata": {
        "id": "uDIJ3Lt_TRjp",
        "outputId": "bcd12416-b611-4e80-f7c8-06c62c370fc1",
        "colab": {
          "base_uri": "https://localhost:8080/"
        }
      },
      "execution_count": 22,
      "outputs": [
        {
          "output_type": "stream",
          "name": "stdout",
          "text": [
            "The word 'python' occurs 0 times in the file.\n"
          ]
        }
      ]
    },
    {
      "cell_type": "code",
      "source": [
        "#22 How can you check if a file is empty before attempting to read its contents.\n",
        "with open('example.txt', 'r') as file:\n",
        "    content = file.read()\n",
        "    if not content:\n",
        "        print(\"The file is empty.\")\n",
        "    else:\n",
        "        print(\"File content:\")\n",
        "        print(content)\n",
        "#"
      ],
      "metadata": {
        "id": "E8IXNvYdTuhU",
        "outputId": "1edc8de4-6600-4d42-c55d-12e5ee5dffaf",
        "colab": {
          "base_uri": "https://localhost:8080/"
        }
      },
      "execution_count": 23,
      "outputs": [
        {
          "output_type": "stream",
          "name": "stdout",
          "text": [
            "File content:\n",
            "Hello, this is a line of text.\n",
            "This is a new line of text.\n"
          ]
        }
      ]
    },
    {
      "cell_type": "code",
      "source": [
        "#23 Write a Python program that writes to a log file when an error occurs during file handling.\n",
        "import logging\n",
        "\n",
        "# Configure logging to write to a file\n",
        "logging.basicConfig(filename='file_errors.log',\n",
        "                    level=logging.ERROR,\n",
        "                    format='%(asctime)s - %(levelname)s - %(message)s')\n",
        "\n",
        "try:\n",
        "    with open('nonexistent_file.txt', 'r') as file:\n",
        "        content = file.read()\n",
        "except FileNotFoundError as e:\n",
        "    logging.error(f\"File not found: {e}\")\n",
        "except Exception as e:\n",
        "    logging.error(f\"An unexpected error occurred: {e}\")"
      ],
      "metadata": {
        "id": "cLPMfrD7T3TW",
        "outputId": "26d79f51-5f1b-46d2-e973-c6f506b1c9c4",
        "colab": {
          "base_uri": "https://localhost:8080/"
        }
      },
      "execution_count": 24,
      "outputs": [
        {
          "output_type": "stream",
          "name": "stderr",
          "text": [
            "ERROR:root:File not found: [Errno 2] No such file or directory: 'nonexistent_file.txt'\n"
          ]
        }
      ]
    }
  ]
}